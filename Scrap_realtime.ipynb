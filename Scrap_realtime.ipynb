{
 "cells": [
  {
   "cell_type": "code",
   "execution_count": 1,
   "id": "d4e683e0",
   "metadata": {},
   "outputs": [],
   "source": [
    "from bs4 import BeautifulSoup\n",
    "from requests.adapters import HTTPAdapter\n",
    "import requests"
   ]
  },
  {
   "cell_type": "code",
   "execution_count": null,
   "id": "b20f1da8",
   "metadata": {},
   "outputs": [],
   "source": [
    "URL_euro = 'https://www.tgju.org/profile/price_eur'\n",
    "URL_AED = 'https://www.tgju.org/profile/price_aed'\n",
    "URL_dollar = 'https://www.tgju.org/profile/price_dollar_rl'"
   ]
  },
  {
   "cell_type": "markdown",
   "id": "6059a275",
   "metadata": {},
   "source": [
    "request to url and create beautiful soap object "
   ]
  },
  {
   "cell_type": "code",
   "execution_count": 5,
   "id": "f01faf93",
   "metadata": {},
   "outputs": [],
   "source": [
    "URL = 'https://www.tgju.org/profile/price_dollar_rl'\n",
    "session = requests.Session()\n",
    "retry = HTTPAdapter(max_retries=5)\n",
    "session.mount('https://', retry)\n",
    "html_text = session.get(URL).text\n",
    "soup=BeautifulSoup(html_text,'lxml')"
   ]
  },
  {
   "cell_type": "markdown",
   "id": "9a98dd0f",
   "metadata": {},
   "source": [
    "scrap page content"
   ]
  },
  {
   "cell_type": "code",
   "execution_count": 6,
   "id": "3916abc8",
   "metadata": {},
   "outputs": [],
   "source": [
    "default_table = soup.find('div',class_='tables-default normal')\n",
    "rows = default_table.find_all('tr')"
   ]
  },
  {
   "cell_type": "code",
   "execution_count": 7,
   "id": "7a063f10",
   "metadata": {},
   "outputs": [
    {
     "name": "stdout",
     "output_type": "stream",
     "text": [
      "AED current_rate : 415,590\n",
      "AED lowest rate : 452,180\n",
      "AED highest rate : 415,510\n",
      "AED market opening rate : 451,990\n",
      "AED last date record : ۱۹:۱۸:۵۳\n"
     ]
    }
   ],
   "source": [
    "for row in rows:\n",
    "    right = row.find('td',class_='text-right')\n",
    "    left = row.find('td',class_ = 'text-left')\n",
    "    \n",
    "    if right != None and left!=None:\n",
    "        \n",
    "        if right.text == 'نرخ فعلی': \n",
    "            current_rate = left.text\n",
    "            print(f'AED current_rate : {current_rate}')\n",
    "        elif right.text =='بالاترین قیمت روز':\n",
    "            lowest_rate = left.text\n",
    "            print(f'AED lowest rate : {lowest_rate}')\n",
    "        elif right.text == 'پایین ترین قیمت روز':\n",
    "            highest_rate = left.text\n",
    "            print(f'AED highest rate : {highest_rate}')\n",
    "        elif right.text == 'نرخ بازگشایی بازار':\n",
    "            market_opening_rate = left.text\n",
    "            print(f'AED market opening rate : {market_opening_rate}')\n",
    "        elif right.text == 'زمان ثبت آخرین نرخ':\n",
    "            last_record_date = left.text\n",
    "            print(f'AED last date record : {last_record_date}')"
   ]
  }
 ],
 "metadata": {
  "kernelspec": {
   "display_name": "Python 3",
   "language": "python",
   "name": "python3"
  },
  "language_info": {
   "codemirror_mode": {
    "name": "ipython",
    "version": 3
   },
   "file_extension": ".py",
   "mimetype": "text/x-python",
   "name": "python",
   "nbconvert_exporter": "python",
   "pygments_lexer": "ipython3",
   "version": "3.9.7"
  },
  "vscode": {
   "interpreter": {
    "hash": "11938c6bc6919ae2720b4d5011047913343b08a43b18698fd82dedb0d4417594"
   }
  }
 },
 "nbformat": 4,
 "nbformat_minor": 5
}
